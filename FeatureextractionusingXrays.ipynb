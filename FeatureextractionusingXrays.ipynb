{
  "nbformat": 4,
  "nbformat_minor": 0,
  "metadata": {
    "colab": {
      "provenance": [],
      "include_colab_link": true
    },
    "kernelspec": {
      "name": "python3",
      "display_name": "Python 3"
    },
    "language_info": {
      "name": "python"
    }
  },
  "cells": [
    {
      "cell_type": "markdown",
      "metadata": {
        "id": "view-in-github",
        "colab_type": "text"
      },
      "source": [
        "<a href=\"https://colab.research.google.com/github/NismaK/ML-Knee-Osteoarthritis-Classification/blob/main/FeatureextractionusingXrays.ipynb\" target=\"_parent\"><img src=\"https://colab.research.google.com/assets/colab-badge.svg\" alt=\"Open In Colab\"/></a>"
      ]
    },
    {
      "cell_type": "markdown",
      "source": [
        "# **🧠📊 ML BASED AUTOMATIC CLASSIFICATION OF KNEE OSTEOARTHRITIS SEVERITY USING RADIOGRAPHIC IMAGES**"
      ],
      "metadata": {
        "id": "9-Z6ZZP_idKd"
      }
    },
    {
      "cell_type": "markdown",
      "source": [
        "#### **🎯 Objective**\n",
        "\n",
        "The main objective of this notebook is to develop and train a deep learning model using radiographic (X-ray) images to automatically classify the severity of Knee Osteoarthritis (KOA) based on the Kellgren–Lawrence (KL) grading system (0–4).\n",
        "\n",
        "Specifically, this notebook focuses on:\n",
        "\n",
        "💻 Preprocessing and augmenting radiographic image data (resize, normalize, enhance contrast)\n",
        "\n",
        "🧠 Using a pre-trained deep learning model VGG-16 for feature extraction and classification\n",
        "\n",
        "⚙️ Training, validation, and testing the model using the provided X-ray dataset\n",
        "\n",
        "📊 Evaluating performance through metrics like accuracy and loss"
      ],
      "metadata": {
        "id": "gg3gnOUMiyui"
      }
    },
    {
      "cell_type": "markdown",
      "source": [
        "## **🧩 Step 1: Google Colab Setup**"
      ],
      "metadata": {
        "id": "6V-Kf1y0jL5E"
      }
    },
    {
      "cell_type": "code",
      "source": [
        "# Mount Google Drive\n",
        "\n",
        "from google.colab import drive\n",
        "drive.mount('/content/drive')\n",
        "\n",
        "# Specify the path of dataset\n",
        "\n",
        "dataset_path = '/content/drive/MyDrive/XRAY'\n",
        "print(\"Google Colab setup complete!\")\n"
      ],
      "metadata": {
        "colab": {
          "base_uri": "https://localhost:8080/"
        },
        "id": "g43ghJ8hjTBc",
        "outputId": "4ac1398f-e78b-4a04-d85b-00bef34c063a"
      },
      "execution_count": null,
      "outputs": [
        {
          "output_type": "stream",
          "name": "stdout",
          "text": [
            "Mounted at /content/drive\n",
            "Google Colab setup complete!\n"
          ]
        }
      ]
    },
    {
      "cell_type": "markdown",
      "source": [
        "💻 ***Google Colab Setup Explanation***\n",
        "\n",
        "🔗 *Mounting Google Drive*:\n",
        "This step connects your Google Drive to the Colab environment so we can easily access datasets, images, and files stored in Drive.\n",
        "\n",
        "📂 *Dataset Path Setup*:\n",
        "We define the path where our dataset is stored —\n",
        "'/content/drive/MyDrive/XRAY'\n",
        "This allows Colab to locate and read our radiographic (X-ray) image dataset.\n",
        "\n",
        "⚙️ *Why This Step Is Important*:\n",
        "\n",
        "- Ensures smooth access to large datasets directly from Drive.\n",
        "\n",
        "- Keeps your data safe even if Colab restarts.\n",
        "\n",
        "- Prepares the environment for further steps like preprocessing, model training, and evaluation."
      ],
      "metadata": {
        "id": "7Q9GriOU8xuS"
      }
    },
    {
      "cell_type": "markdown",
      "source": [
        "## **🧩 Step 2: Import Libraries**"
      ],
      "metadata": {
        "id": "3Ymu-6KDkyS2"
      }
    },
    {
      "cell_type": "code",
      "source": [
        "# Import essential libraries\n",
        "\n",
        "import os\n",
        "import cv2\n",
        "import numpy as np\n",
        "import matplotlib.pyplot as plt\n",
        "import tensorflow as tf\n",
        "from tensorflow.keras.preprocessing.image import ImageDataGenerator\n",
        "from tensorflow.keras.applications import VGG16\n",
        "from tensorflow.keras.models import Model\n",
        "from tensorflow.keras.layers import Dense, GlobalAveragePooling2D\n",
        "from tensorflow.keras.optimizers import Adam\n",
        "from tensorflow.keras.callbacks import EarlyStopping, ModelCheckpoint\n",
        "\n",
        "# Confirmation message\n",
        "print(\"Libraries imported!\")\n"
      ],
      "metadata": {
        "colab": {
          "base_uri": "https://localhost:8080/"
        },
        "id": "_L34DWhUkrVK",
        "outputId": "ef1ce4ee-5ed7-42ee-dc9d-8e79e8f730fc"
      },
      "execution_count": null,
      "outputs": [
        {
          "output_type": "stream",
          "name": "stdout",
          "text": [
            "Libraries imported!\n"
          ]
        }
      ]
    },
    {
      "cell_type": "markdown",
      "source": [
        "***📚 Importing Essential Libraries***\n",
        "\n",
        "In this step, we import all the necessary Python libraries required for building and training our deep learning model on radiographic (X-ray) images.\n",
        "\n",
        "*🔹 Explanation of Each Library:*\n",
        "\n",
        "- os – Helps in navigating through folders and files in the system.\n",
        "\n",
        "- cv2 (OpenCV) – Used for image processing tasks like reading, resizing, and enhancing X-ray images.\n",
        "\n",
        "- numpy – Supports numerical operations and array manipulations.\n",
        "\n",
        "- matplotlib.pyplot – For visualizing images, accuracy curves, and training results.\n",
        "\n",
        "- tensorflow & keras – Core libraries for building and training the deep learning model.\n",
        "\n",
        "*🧠 Key Keras Modules Used*:\n",
        "\n",
        "- ImageDataGenerator – To load images in batches and apply data augmentation.\n",
        "\n",
        "- Model, Dense, GlobalAveragePooling2D – To build and customize the neural network architecture.\n",
        "\n",
        "- Adam – Optimizer used for efficient gradient descent during training.\n",
        "\n",
        "- EarlyStopping, ModelCheckpoint – Callbacks that prevent overfitting and save the best-performing model."
      ],
      "metadata": {
        "id": "ihvvR5G2-Za8"
      }
    },
    {
      "cell_type": "markdown",
      "source": [
        "## **🧩 Step 3: Dataset Preparation & ImageDataGenerator**"
      ],
      "metadata": {
        "id": "EyX9I7UhoBpy"
      }
    },
    {
      "cell_type": "code",
      "source": [
        "# Check if the dataset folder exists and list files\n",
        "import os\n",
        "if os.path.exists(dataset_path):\n",
        "    print(\"Dataset folder found! Here are the files:\")\n",
        "    print(os.listdir(dataset_path))\n",
        "else:\n",
        "    print(\"Dataset folder not found. Please check the path.\")\n"
      ],
      "metadata": {
        "colab": {
          "base_uri": "https://localhost:8080/"
        },
        "id": "FObTvA5flD0u",
        "outputId": "a5568f2b-993d-4d20-b4e4-40170722eda2"
      },
      "execution_count": null,
      "outputs": [
        {
          "output_type": "stream",
          "name": "stdout",
          "text": [
            "Dataset folder found! Here are the files:\n",
            "['train', 'test', 'auto_test', 'val']\n"
          ]
        }
      ]
    },
    {
      "cell_type": "markdown",
      "source": [
        "***📂 Verifying Dataset Directory***\n",
        "\n",
        "Before starting any preprocessing or model training, it’s essential to confirm that the dataset folder has been correctly loaded from Google Drive.\n",
        "\n",
        "*⚙️ Why This Step Is Important:*\n",
        "\n",
        "- Uses the os library to check whether the dataset path (dataset_path) exists in the Colab environment.\n",
        "\n",
        "- Helps verify that your folder structure (e.g., XRAY/train/0, XRAY/train/1, … XRAY/train/4) is properly organized.\n",
        "\n",
        "- Prevents future errors during data loading and model training.\n",
        "Uses the os library to check whether the dataset path (dataset_path) exists in the Colab environment."
      ],
      "metadata": {
        "id": "3ISaFpYOAHjx"
      }
    },
    {
      "cell_type": "code",
      "source": [
        "# Dataset base path\n",
        "base_dir = '/content/drive/MyDrive/XRAY'\n",
        "\n",
        "train_dir = os.path.join(base_dir, 'train')\n",
        "val_dir = os.path.join(base_dir, 'val')\n",
        "test_dir = os.path.join(base_dir, 'test')\n",
        "auto_test_dir = os.path.join(base_dir, 'auto_test')"
      ],
      "metadata": {
        "id": "WJBmSNTrnE94"
      },
      "execution_count": null,
      "outputs": []
    },
    {
      "cell_type": "markdown",
      "source": [
        "***🗂️ Defining Dataset Paths***\n",
        "\n",
        "In this step, we define the base path for our dataset and create separate variables for each data subset — train, validation, test, and auto_test.\n",
        "\n",
        "*📁 What Each Directory Represents:*\n",
        "\n",
        "- train_dir → Contains images used for training the model.\n",
        "The model learns important visual patterns (like joint space narrowing, bone spurs, etc.) from these images.\n",
        "\n",
        "- val_dir → Used for validation during training.\n",
        "Helps monitor how well the model generalizes to unseen data and prevents overfitting.\n",
        "\n",
        "- test_dir → Contains data for final evaluation of the trained model’s accuracy.\n",
        "\n",
        "- auto_test_dir → Optional folder for extra testing or automation checks (used after model training to verify performance).\n",
        "\n",
        "*⚙️ Purpose of This Step:*\n",
        "\n",
        "- Organizes dataset paths clearly for easy access in later steps (like image loading and preprocessing).\n",
        "\n",
        "- Avoids hardcoding paths repeatedly throughout the notebook.\n",
        "\n",
        "- Makes the code cleaner, modular, and easy to update if the dataset location changes."
      ],
      "metadata": {
        "id": "VJ2VZtGvBIKB"
      }
    },
    {
      "cell_type": "code",
      "source": [
        "# ImageDataGenerator\n",
        "# Train images->  augmentation + normalization\n",
        "train_datagen = ImageDataGenerator(\n",
        "    rescale=1./255,\n",
        "    rotation_range=15,\n",
        "    width_shift_range=0.1,\n",
        "    height_shift_range=0.1,\n",
        "    shear_range=0.1,\n",
        "    zoom_range=0.1,\n",
        "    horizontal_flip=True,\n",
        "    fill_mode='nearest'\n",
        ")\n",
        "\n",
        "# Validation / Test / Auto_test -> normalization\n",
        "val_test_datagen = ImageDataGenerator(rescale=1./255)\n"
      ],
      "metadata": {
        "id": "JTQ-DfmIoQX1"
      },
      "execution_count": null,
      "outputs": []
    },
    {
      "cell_type": "markdown",
      "source": [
        "***🎨 Data Preprocessing and Augmentation using ImageDataGenerator***\n",
        "\n",
        "In this step, we prepare our dataset for training the model using Keras’ ImageDataGenerator. This helps in preprocessing and optionally augmenting the images to improve the model’s robustness.\n",
        "\n",
        "*🔹 Training Images (train_datagen)*\n",
        "\n",
        "Rescale: Normalizes pixel values from [0, 255] → [0, 1].\n",
        "\n",
        "Augmentation Techniques:\n",
        "\n",
        "rotation_range=15 → Random rotations up to ±15°\n",
        "\n",
        "width_shift_range=0.1, height_shift_range=0.1 → Random shifts along width/height\n",
        "\n",
        "shear_range=0.1 → Shear transformations\n",
        "\n",
        "zoom_range=0.1 → Random zoom in/out\n",
        "\n",
        "horizontal_flip=True → Random horizontal flips\n",
        "\n",
        "fill_mode='nearest' → Fills pixels outside boundaries after transformation\n",
        "\n",
        "*✅ Purpose:*\n",
        "\n",
        "Increases dataset variability → improves model generalization\n",
        "\n",
        "*🔹 Validation / Test / Auto-test Images (val_test_datagen)*\n",
        "\n",
        "Only rescaling/normalization applied (rescale=1./255)\n",
        "\n",
        "No augmentation to ensure the evaluation is performed on real images\n",
        "\n",
        "*⚙️ Why This Step is Important*\n",
        "\n",
        "Prevents overfitting by teaching the model to recognize variations in X-ray images\n",
        "\n",
        "Ensures all images are normalized, which helps in faster and stable training\n",
        "\n",
        "Keeps validation/test sets unchanged to provide a true measure of performance"
      ],
      "metadata": {
        "id": "jr_sdJ7vCUni"
      }
    },
    {
      "cell_type": "code",
      "source": [
        "#  Load Images from Folders\n",
        "train_generator = train_datagen.flow_from_directory(\n",
        "    train_dir,\n",
        "    target_size=(224,224),\n",
        "    batch_size=32,\n",
        "    class_mode='categorical'\n",
        ")\n",
        "\n",
        "val_generator = val_test_datagen.flow_from_directory(\n",
        "    val_dir,\n",
        "    target_size=(224,224),\n",
        "    batch_size=32,\n",
        "    class_mode='categorical'\n",
        ")\n",
        "\n",
        "test_generator = val_test_datagen.flow_from_directory(\n",
        "    test_dir,\n",
        "    target_size=(224,224),\n",
        "    batch_size=32,\n",
        "    class_mode='categorical',\n",
        "    shuffle=False\n",
        ")\n",
        "\n",
        "auto_test_generator = val_test_datagen.flow_from_directory(\n",
        "    auto_test_dir,\n",
        "    target_size=(224,224),\n",
        "    batch_size=32,\n",
        "    class_mode='categorical',\n",
        "    shuffle=False\n",
        ")\n"
      ],
      "metadata": {
        "colab": {
          "base_uri": "https://localhost:8080/"
        },
        "id": "jEePxWqEpTlO",
        "outputId": "46693cb7-9127-4eee-9398-931b4b712bf8"
      },
      "execution_count": null,
      "outputs": [
        {
          "output_type": "stream",
          "name": "stdout",
          "text": [
            "Found 5778 images belonging to 5 classes.\n",
            "Found 826 images belonging to 5 classes.\n",
            "Found 1656 images belonging to 5 classes.\n",
            "Found 1526 images belonging to 5 classes.\n"
          ]
        }
      ]
    },
    {
      "cell_type": "markdown",
      "source": [
        "***🗂️ Loading Images Using flow_from_directory***\n",
        "\n",
        "In this step, we load the images from their respective folders using Keras’ flow_from_directory method. This converts the images into batches that can be fed directly into the model.\n",
        "\n",
        "*🔹 Training Generator (train_generator)*\n",
        "\n",
        "- Loads images from train_dir\n",
        "\n",
        "- Target Size: (224, 224) → required by VGG16\n",
        "\n",
        "- Batch Size: 32 images per batch\n",
        "\n",
        "- Class Mode: categorical → because we have 5 classes (KL grades 0–4)\n",
        "\n",
        "- Applies augmentation + normalization from train_datagen\n",
        "\n",
        "*🔹 Validation Generator (val_generator)*\n",
        "\n",
        "- Loads images from val_dir\n",
        "\n",
        "- Only rescaling applied from val_test_datagen\n",
        "\n",
        "- Used to monitor model performance during training\n",
        "\n",
        "*🔹 Test Generator (test_generator)*\n",
        "\n",
        "- Loads images from test_dir\n",
        "\n",
        "- No shuffling (shuffle=False) → ensures consistent evaluation\n",
        "\n",
        "- Only rescaling applied\n",
        "\n",
        "- Used for final model evaluation\n",
        "\n",
        "*🔹 Auto Test Generator (auto_test_generator)*\n",
        "\n",
        "- Loads images from auto_test_dir\n",
        "\n",
        "- Only rescaling applied\n",
        "\n",
        "- Optional dataset for additional testing or automation checks\n",
        "\n",
        "*⚙️ Why This Step is Important*\n",
        "\n",
        "- Automatically assigns labels based on folder names (0–4)\n",
        "\n",
        "- Converts images to numpy arrays and batches them for efficient training\n",
        "\n",
        "- Ensures consistent input shape for the model (224x224x3)"
      ],
      "metadata": {
        "id": "d3cWdndZDR5M"
      }
    },
    {
      "cell_type": "code",
      "source": [
        "# Verify Dataset & Count Images\n",
        "\n",
        "def count_images(directory):\n",
        "    print(f\"\\nChecking dataset in: {directory}\")\n",
        "    for folder in sorted(os.listdir(directory)):\n",
        "        folder_path = os.path.join(directory, folder)\n",
        "        if os.path.isdir(folder_path):\n",
        "            num_images = len(os.listdir(folder_path))\n",
        "            print(f\"Class {folder}: {num_images} images\")\n",
        "\n",
        "# Check train, val, test, auto_test\n",
        "count_images(train_dir)\n",
        "count_images(val_dir)\n",
        "count_images(test_dir)\n",
        "count_images(auto_test_dir)\n",
        "\n",
        "# Verify generators\n",
        "print(\"\\nSample from train_generator:\")\n",
        "x_batch, y_batch = next(train_generator)\n",
        "print(f\"x_batch shape: {x_batch.shape}, y_batch shape: {y_batch.shape}\")\n"
      ],
      "metadata": {
        "colab": {
          "base_uri": "https://localhost:8080/"
        },
        "id": "7NAYBz3Cp5pY",
        "outputId": "8894e499-8d04-4e0a-f441-91fa5cc3fac2"
      },
      "execution_count": null,
      "outputs": [
        {
          "output_type": "stream",
          "name": "stdout",
          "text": [
            "\n",
            "Checking dataset in: /content/drive/MyDrive/XRAY/train\n",
            "Class 0: 2286 images\n",
            "Class 1: 1046 images\n",
            "Class 2: 1516 images\n",
            "Class 3: 757 images\n",
            "Class 4: 173 images\n",
            "\n",
            "Checking dataset in: /content/drive/MyDrive/XRAY/val\n",
            "Class 0: 328 images\n",
            "Class 1: 153 images\n",
            "Class 2: 212 images\n",
            "Class 3: 106 images\n",
            "Class 4: 27 images\n",
            "\n",
            "Checking dataset in: /content/drive/MyDrive/XRAY/test\n",
            "Class 0: 639 images\n",
            "Class 1: 296 images\n",
            "Class 2: 447 images\n",
            "Class 3: 223 images\n",
            "Class 4: 51 images\n",
            "\n",
            "Checking dataset in: /content/drive/MyDrive/XRAY/auto_test\n",
            "Class 0: 604 images\n",
            "Class 1: 275 images\n",
            "Class 2: 403 images\n",
            "Class 3: 200 images\n",
            "Class 4: 44 images\n",
            "\n",
            "Sample from train_generator:\n",
            "x_batch shape: (32, 224, 224, 3), y_batch shape: (32, 5)\n"
          ]
        }
      ]
    },
    {
      "cell_type": "markdown",
      "source": [
        "***✅ Verifying the Dataset and Counting Images***\n",
        "\n",
        "Before training the model, it is crucial to verify the dataset and ensure that all classes are properly represented. This step performs two main tasks:\n",
        "\n",
        "*🔹  Counting Images per Class*\n",
        "\n",
        "- The count_images() function loops through each folder in a dataset directory (train, val, test, auto_test).\n",
        "\n",
        "- For each class folder (0–4), it prints the number of images available.\n",
        "\n",
        "- Helps to check if:\n",
        "\n",
        "     - Dataset is balanced or imbalanced across classes\n",
        "\n",
        "    - Any folder is empty or missing images\n",
        "\n",
        "*🔹  Verifying Generators*\n",
        "\n",
        "- Fetches a sample batch from the train_generator using next().\n",
        "\n",
        "- Prints the shapes of:\n",
        "\n",
        "    - x_batch → batch of images (should be (batch_size, 224, 224, 3))\n",
        "\n",
        "    - y_batch → batch of one-hot encoded labels (should be (batch_size, 5))\n",
        "\n",
        "- Ensures that image generators are correctly reading and processing images.\n",
        "\n",
        "*⚙️ Why This Step is Important*\n",
        "\n",
        "- Confirms that the dataset is correctly loaded and structured.\n",
        "\n",
        "- Prevents errors during model training due to missing or mis-labeled images.\n",
        "\n",
        "- Provides an initial overview of dataset size and batch shape for model input."
      ],
      "metadata": {
        "id": "M6ReuMIeEqct"
      }
    },
    {
      "cell_type": "code",
      "source": [
        "# Image Preprocessing\n",
        "\n",
        "# Function for custom preprocessing\n",
        "def preprocess_xray(image_path, target_size=(224,224)):\n",
        "    # 1. Read image in grayscale (X-rays are usually grayscale)\n",
        "    img = cv2.imread(image_path, cv2.IMREAD_GRAYSCALE)\n",
        "\n",
        "    # 2. Resize to target size\n",
        "    img = cv2.resize(img, target_size)\n",
        "\n",
        "    # 3. Apply histogram equalization (contrast enhancement)\n",
        "    img = cv2.equalizeHist(img)\n",
        "\n",
        "    # 4. Convert to 3 channels\n",
        "    img = cv2.cvtColor(img, cv2.COLOR_GRAY2RGB)\n",
        "\n",
        "    # 5. Normalize pixel values to 0-1\n",
        "    img = img / 255.0\n",
        "\n",
        "    return img\n",
        "\n",
        "# Example usage\n",
        "sample_path = '/content/drive/MyDrive/XRAY/train/0/9003126R.png'  # adjust path\n",
        "processed_img = preprocess_xray(sample_path)\n",
        "\n",
        "import matplotlib.pyplot as plt\n",
        "plt.imshow(processed_img)\n",
        "plt.title(\"Preprocessed X-ray Image\")\n",
        "plt.axis('off')\n",
        "plt.show()\n",
        "\n",
        "\n",
        "# Integrate preprocessing into ImageDataGenerator\n",
        "\n",
        "def custom_preprocessing_function(img):\n",
        "    # img is a numpy array from generator\n",
        "    # Convert to grayscale\n",
        "    img = cv2.cvtColor(img, cv2.COLOR_RGB2GRAY)\n",
        "    # Histogram equalization\n",
        "    img = cv2.equalizeHist(np.uint8(img*255))\n",
        "    # Back to 3 channels\n",
        "    img = cv2.cvtColor(img, cv2.COLOR_GRAY2RGB)\n",
        "    # Normalize\n",
        "    img = img / 255.0\n",
        "    return img\n",
        "\n",
        "# Example with ImageDataGenerator\n",
        "train_datagen = ImageDataGenerator(\n",
        "    preprocessing_function=custom_preprocessing_function,\n",
        "    rotation_range=15,\n",
        "    width_shift_range=0.1,\n",
        "    height_shift_range=0.1,\n",
        "    shear_range=0.1,\n",
        "    zoom_range=0.1,\n",
        "    horizontal_flip=True,\n",
        "    fill_mode='nearest'\n",
        ")\n"
      ],
      "metadata": {
        "colab": {
          "base_uri": "https://localhost:8080/",
          "height": 428
        },
        "id": "RkFTGMUPp6_G",
        "outputId": "c2d77c45-4786-413a-b2bb-3a3810c12772"
      },
      "execution_count": null,
      "outputs": [
        {
          "output_type": "display_data",
          "data": {
            "text/plain": [
              "<Figure size 640x480 with 1 Axes>"
            ],
            "image/png": "[encoded data removed]"
          },
          "metadata": {}
        }
      ]
    },
    {
      "cell_type": "markdown",
      "source": [
        "***🎨 Image Preprocessing and Augmentation***\n",
        "\n",
        "Before training a deep learning model, it is important to preprocess the X-ray images to enhance relevant features and normalize inputs.\n",
        "\n",
        "*🔹  Custom Preprocessing Function (preprocess_xray)*\n",
        "\n",
        "- Grayscale Conversion: X-rays are typically grayscale, so we convert images to grayscale to remove unnecessary color channels.\n",
        "\n",
        "- Resize: Images are resized to (224, 224) to match VGG16 input requirements.\n",
        "\n",
        "- Histogram Equalization: Enhances the contrast of X-ray images to highlight important features like joint spaces and bone spurs.\n",
        "\n",
        "- Convert to 3 Channels: VGG16 requires 3-channel input, so grayscale images are converted back to RGB format.\n",
        "\n",
        "- Normalization: Pixel values scaled to [0, 1] for faster and stable model training.\n",
        "\n",
        "*🔹  Visual Verification*\n",
        "\n",
        "- A sample preprocessed image is displayed using matplotlib to ensure preprocessing is applied correctly.\n",
        "\n",
        "*🔹  Integrating Preprocessing into ImageDataGenerator*\n",
        "\n",
        "- custom_preprocessing_function ensures that every image generated for training goes through the same preprocessing steps automatically.\n",
        "\n",
        "- Data augmentation is also applied:\n",
        "\n",
        "     - Random rotations, shifts, shear, zoom, and horizontal flips\n",
        "\n",
        "     - Helps improve model generalization by simulating variations in real X-ray images\n",
        "\n",
        "*⚙️ Why This Step Is Important*\n",
        "\n",
        "- Enhances contrast and features in X-ray images\n",
        "\n",
        "- Standardizes input size and pixel range for the model\n",
        "\n",
        "- Augments the training dataset without adding new images"
      ],
      "metadata": {
        "id": "SjaMpIzUFzsu"
      }
    },
    {
      "cell_type": "code",
      "source": [],
      "metadata": {
        "id": "lbkKSWBstp3d"
      },
      "execution_count": null,
      "outputs": []
    }
  ]
}